{
 "cells": [
  {
   "cell_type": "code",
   "execution_count": 60,
   "metadata": {},
   "outputs": [],
   "source": [
    "def split_answer_by_annotator(in_file):\n",
    "    annotator_id = '0'\n",
    "    m2_content = \"\"\n",
    "    \n",
    "    with open(in_file) as input_file:\n",
    "        for line in input_file:\n",
    "            line = line.strip()\n",
    "            if line.startswith('S'):\n",
    "                S = line\n",
    "                m2_content += f\"{S}\\n\"\n",
    "            elif line.startswith('A'):\n",
    "                A = line\n",
    "                if line.split('|||')[-1] == annotator_id:\n",
    "                    m2_content += f\"{A}\\n\"\n",
    "                else:\n",
    "                    annotator_id = line.split('|||')[-1]\n",
    "                    m2_content += '\\n'\n",
    "                    m2_content += f\"{S}\\n\"\n",
    "                    m2_content += f\"{A}\\n\"\n",
    "            else:\n",
    "                m2_content += '\\n'\n",
    "                \n",
    "    return m2_content"
   ]
  },
  {
   "cell_type": "code",
   "execution_count": 61,
   "metadata": {},
   "outputs": [],
   "source": [
    "import sys\n",
    "import re\n",
    "\n",
    "def m2_to_csv(in_file, out_file):\n",
    "    m2_content = split_answer_by_annotator(in_file)\n",
    "    \n",
    "    words = []\n",
    "    corrected = []\n",
    "    sid = eid = 0\n",
    "    prev_sid = prev_eid = -1\n",
    "    pos = 0\n",
    "    \n",
    "    with open(out_file, 'w') as output_file:\n",
    "        for line in m2_content.split('\\n')[:-1]:\n",
    "            line = line.strip()\n",
    "\n",
    "            if line.startswith('S'):\n",
    "                line = line[2:]\n",
    "                words = line.split()\n",
    "                corrected = ['<S>'] + words[:]\n",
    "                output_file.write(line + '\\n')\n",
    "            elif line.startswith('A'):\n",
    "                line = line[2:]\n",
    "                info = line.split(\"|||\")\n",
    "                sid, eid = info[0].split()\n",
    "                sid = int(sid) + 1; eid = int(eid) + 1;\n",
    "                error_type = info[1]\n",
    "                if error_type == \"Um\":\n",
    "                    continue\n",
    "                for idx in range(sid, eid):\n",
    "                    corrected[idx] = \"\"\n",
    "                if sid == eid:\n",
    "                    if sid == 0: continue\t# Originally index was -1, indicating no op\n",
    "                    if sid != prev_sid or eid != prev_eid:\n",
    "                        pos = len(corrected[sid-1].split())\n",
    "                    cur_words = corrected[sid-1].split()\n",
    "                    cur_words.insert(pos, info[2])\n",
    "                    pos += len(info[2].split())\n",
    "                    corrected[sid-1] = \" \".join(cur_words)\n",
    "                else:\n",
    "                    corrected[sid] = info[2]\n",
    "                    pos = 0\n",
    "                prev_sid = sid\n",
    "                prev_eid = eid\n",
    "            else:\n",
    "                target_sentence = ' '.join([word for word in corrected if word != \"\"])\n",
    "                assert target_sentence.startswith('<S>'), '(' + target_sentence + ')'\n",
    "                target_sentence = target_sentence[4:]\n",
    "                output_file.write(target_sentence + '\\n\\n')\n",
    "                prev_sid = -1\n",
    "                prev_eid = -1\n",
    "                pos = 0"
   ]
  },
  {
   "cell_type": "code",
   "execution_count": 62,
   "metadata": {},
   "outputs": [],
   "source": [
    "m2_to_csv(\"fce.train.gold.bea19.m2\", \"fce.train.gold.bea19.txt\")"
   ]
  },
  {
   "cell_type": "code",
   "execution_count": 63,
   "metadata": {},
   "outputs": [],
   "source": [
    "m2_to_csv(\"test.m2\", \"test.txt\")"
   ]
  },
  {
   "cell_type": "code",
   "execution_count": null,
   "metadata": {},
   "outputs": [],
   "source": []
  }
 ],
 "metadata": {
  "kernelspec": {
   "display_name": "Python 3",
   "language": "python",
   "name": "python3"
  },
  "language_info": {
   "codemirror_mode": {
    "name": "ipython",
    "version": 3
   },
   "file_extension": ".py",
   "mimetype": "text/x-python",
   "name": "python",
   "nbconvert_exporter": "python",
   "pygments_lexer": "ipython3",
   "version": "3.7.5"
  }
 },
 "nbformat": 4,
 "nbformat_minor": 4
}
