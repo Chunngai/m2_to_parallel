{
 "cells": [
  {
   "cell_type": "code",
   "execution_count": 101,
   "metadata": {},
   "outputs": [],
   "source": [
    "def split_A_by_annotator(in_, out_):\n",
    "    annotator_id = '0'\n",
    "    \n",
    "    with open(in_) as input_file, open(out_, 'w') as output_file:\n",
    "        for line in input_file:\n",
    "            line = line.strip()\n",
    "            if line.startswith('S'):\n",
    "                S = line\n",
    "                output_file.write(f\"{S}\\n\")\n",
    "            elif line.startswith('A'):\n",
    "                A = line\n",
    "                if line.split('|||')[-1] == annotator_id:\n",
    "                    output_file.write(f\"{A}\\n\")\n",
    "                else:\n",
    "                    annotator_id = line.split('|||')[-1]\n",
    "                    output_file.write('\\n')\n",
    "                    output_file.write(f\"{S}\\n\")\n",
    "                    output_file.write(f\"{A}\\n\")\n",
    "            else:\n",
    "                output_file.write('\\n')"
   ]
  },
  {
   "cell_type": "code",
   "execution_count": 102,
   "metadata": {},
   "outputs": [],
   "source": [
    "split_A_by_annotator(\"fce.train.gold.bea19.m2\", \"fce.train.gold.bea19_.m2\")"
   ]
  },
  {
   "cell_type": "code",
   "execution_count": 103,
   "metadata": {},
   "outputs": [],
   "source": [
    "split_A_by_annotator(\"test.m2\", \"test_.m2\")"
   ]
  },
  {
   "cell_type": "code",
   "execution_count": 104,
   "metadata": {},
   "outputs": [],
   "source": [
    "import sys\n",
    "import re\n",
    "\n",
    "def m2_to_csv(in_, out_):\n",
    "    words = []\n",
    "    corrected = []\n",
    "    sid = eid = 0\n",
    "    prev_sid = prev_eid = -1\n",
    "    pos = 0\n",
    "    \n",
    "    with open(in_) as input_file, open(out_, 'w') as output_file:\n",
    "        for line in input_file:\n",
    "            line = line.strip()\n",
    "            if line.startswith('S'):\n",
    "                line = line[2:]\n",
    "                words = line.split()\n",
    "                corrected = ['<S>'] + words[:]\n",
    "                output_file.write(line + '\\n')\n",
    "            elif line.startswith('A'):\n",
    "                line = line[2:]\n",
    "                info = line.split(\"|||\")\n",
    "                sid, eid = info[0].split()\n",
    "                sid = int(sid) + 1; eid = int(eid) + 1;\n",
    "                error_type = info[1]\n",
    "                if error_type == \"Um\":\n",
    "                    continue\n",
    "                for idx in range(sid, eid):\n",
    "                    corrected[idx] = \"\"\n",
    "                if sid == eid:\n",
    "                    if sid == 0: continue\t# Originally index was -1, indicating no op\n",
    "                    if sid != prev_sid or eid != prev_eid:\n",
    "                        pos = len(corrected[sid-1].split())\n",
    "                    cur_words = corrected[sid-1].split()\n",
    "                    cur_words.insert(pos, info[2])\n",
    "                    pos += len(info[2].split())\n",
    "                    corrected[sid-1] = \" \".join(cur_words)\n",
    "                else:\n",
    "                    corrected[sid] = info[2]\n",
    "                    pos = 0\n",
    "                prev_sid = sid\n",
    "                prev_eid = eid\n",
    "            else:\n",
    "                target_sentence = ' '.join([word for word in corrected if word != \"\"])\n",
    "                assert target_sentence.startswith('<S>'), '(' + target_sentence + ')'\n",
    "                target_sentence = target_sentence[4:]\n",
    "                output_file.write(target_sentence + '\\n\\n')\n",
    "                prev_sid = -1\n",
    "                prev_eid = -1\n",
    "                pos = 0\n"
   ]
  },
  {
   "cell_type": "code",
   "execution_count": 105,
   "metadata": {},
   "outputs": [],
   "source": [
    "m2_to_csv(\"/home/neko/Downloads/fce.train.gold.bea19_.m2\", \"/home/neko/Downloads/out.txt\")"
   ]
  },
  {
   "cell_type": "code",
   "execution_count": 106,
   "metadata": {},
   "outputs": [],
   "source": [
    "m2_to_csv(\"/home/neko/Downloads/test_.m2\", \"/home/neko/Downloads/out1.txt\")"
   ]
  },
  {
   "cell_type": "code",
   "execution_count": null,
   "metadata": {},
   "outputs": [],
   "source": []
  }
 ],
 "metadata": {
  "kernelspec": {
   "display_name": "Python 3",
   "language": "python",
   "name": "python3"
  },
  "language_info": {
   "codemirror_mode": {
    "name": "ipython",
    "version": 3
   },
   "file_extension": ".py",
   "mimetype": "text/x-python",
   "name": "python",
   "nbconvert_exporter": "python",
   "pygments_lexer": "ipython3",
   "version": "3.7.5"
  }
 },
 "nbformat": 4,
 "nbformat_minor": 4
}
